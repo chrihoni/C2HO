{
 "cells": [
  {
   "cell_type": "markdown",
   "id": "18f9ead1-530d-454d-a362-ec3aa0ff0613",
   "metadata": {},
   "source": [
    "# C2HO Creative Computing Competition 2023, Oslo"
   ]
  },
  {
   "cell_type": "markdown",
   "id": "6a66cb21-0bcc-419c-9e30-103efd9bf5ea",
   "metadata": {
    "tags": []
   },
   "source": [
    "#### The script generates audio-visual artwork by sonifying and visualizing brain activity recorded in the cortex of an awake/unconscious mouse. \n",
    "\n",
    "#### The input data represent the timing of electrical impulses recorded simultaneously across superficial and deep layers of the mouse cortex. \n",
    "\n",
    "#### The location and electrical activity of each recording position is visualized by plotting  a series of vertically arranged circles, which vary in color and size depending on the rate of electrical impulses (superficial layers correspond to circles at the top, deep layers to circles on the bottom). Plots are converted to a mp4 video file. \n",
    "\n",
    "#### For sonification, data are mapped to MIDI notes and converted to a .wav file. Finally, audio and video files are merged (mp4).\n"
   ]
  },
  {
   "cell_type": "code",
   "execution_count": 2,
   "id": "eca5fa6f-a7bd-4bb0-b3a2-7879b950c2b3",
   "metadata": {},
   "outputs": [],
   "source": [
    "import numpy as np\n",
    "import matplotlib.pyplot as plt\n",
    "from matplotlib import gridspec\n",
    "import time\n",
    "import cv2\n",
    "import glob\n",
    "import re\n",
    "%matplotlib inline"
   ]
  },
  {
   "cell_type": "markdown",
   "id": "27a0c2cd-7ea9-4b36-b1d3-09a8d1804412",
   "metadata": {},
   "source": [
    "# Functions"
   ]
  },
  {
   "cell_type": "code",
   "execution_count": 19,
   "id": "96db1470-8c53-47ff-ab7d-2ba725029a74",
   "metadata": {},
   "outputs": [],
   "source": [
    "\n",
    "def sum_spikes_window (rasterplot, sampling_rate= 20000, bin_step_ms = 5, factor = 4):\n",
    "    \"\"\"returns ratio:  The sum of spikes (ones) in a moving bin_window / length of bin_window. The bin_window is a factor (by default 4) x the size of the bin_step and moves in bin_step increments towards the end of the recording. \n",
    "    \n",
    "    Parameters:\n",
    "    -----------\n",
    "    rasterplot: input data array (channels x samples) \n",
    "    \n",
    "    sampling_rate: the sampling rate of the input data array (default = 20000 samples/s)\n",
    "    \n",
    "    bin_step_ms: (int) the bin step in milli seconds\n",
    "    \n",
    "    factor: by default = 4, determines size of the bin window: bin_window = factor x bin_step_ms  \n",
    "      \n",
    "    \n",
    "    \"\"\"\n",
    "    \n",
    "        \n",
    "        \n",
    "    ###Parameters for testing, delete after function finished!!!!\n",
    "    #rasterplot = arr_rs\n",
    "    #sampling_rate= srate1\n",
    "    #bin_step_ms = 5\n",
    "    #factor = 4\n",
    "    \n",
    "    \n",
    "    \n",
    "    \n",
    "    \n",
    "    #number of sample points before/after stimulation: interval\n",
    "    interval = np.size(rasterplot, axis = 1)\n",
    "    \n",
    "    #number of sample points before stimulation: interval_half (scalar)\n",
    "    interval_half = ((np.size(rasterplot, axis = 1)-1)/sampling_rate)/2\n",
    "    \n",
    "    #convert bin_step_ms to bin_step in samples: bin_step\n",
    "    bin_step = int((bin_step_ms/1000) * sampling_rate)\n",
    "    \n",
    "        \n",
    "    #define first how large window for sum should be: store in bin list and bin step, np.arange-->from 0 to value which is sum of x and y sample point ####\n",
    "    bin_list = np.arange(0,interval + bin_step, bin_step).tolist()\n",
    "    \n",
    "          \n",
    "    #del last 4 values of bin_list to avoid being out of bounds in following loop#######\n",
    "    del bin_list[-factor:] \n",
    "    \n",
    "    \n",
    "    ###########sum spikes over given binwindow (binstep x 4, e.g. 30 samples is 1 ms, ) s#####\n",
    "    #defines size of bin_window\n",
    "    bin_window = bin_step*factor\n",
    "    #empty array (bin_list channels x samples): sum_bins\n",
    "    sum_bins = np.zeros((np.size(rasterplot, axis = 0), len(bin_list)))\n",
    "    for i in range (np.size(rasterplot, axis =0)): \n",
    "        for ii in range(len(bin_list)):\n",
    "            x = bin_list[ii]\n",
    "            y = bin_list[ii] + bin_window\n",
    "            sum_bins[i,ii]= np.sum(rasterplot[i, x:y])\n",
    "    # ratio sum_bins/len(bin_window): ratio\n",
    "    ratio = sum_bins/bin_window\n",
    "    return ratio\n",
    "    \n",
    "    \n",
    "\n",
    "def find_closest_value(arr, val):\n",
    "    \"\"\"\n",
    "    \n",
    "\n",
    "    Parameters\n",
    "    ----------\n",
    "    arr : input array (1-D)\n",
    "    val : integer\n",
    "\n",
    "    Returns\n",
    "    the index of a value in array closest to the input value\n",
    "    \n",
    "    \"\"\"\n",
    "    return np.abs(arr - val).argmin()\n",
    "\n",
    "\n",
    "\n",
    "def get_circle_props(ones_ratio):\n",
    "    \"\"\"returns float numbers for diameter and color of an input array used in plot function\n",
    "    arr: 2D numpy array (channels x samples) returned by sum_spikes_window\"\"\"\n",
    "    \n",
    "    #ones_ratio  = np.sum(arr) / np.size(arr)\n",
    "    diameter    =   ones_ratio \n",
    "    #color (red, green, blue), tuple with floats from 0 to 1\n",
    "    color       = (ones_ratio, np.array([0]), 1-ones_ratio)\n",
    "    return diameter, color    \n",
    "\n",
    "\n",
    "def map_value(value, min_value, max_value, min_result, max_result):\n",
    "    '''maps value (or array of values) from one range to another'''\n",
    "    \n",
    "    result = min_result + (value - min_value)/(max_value - min_value)*(max_result - min_result)\n",
    "    return result\n",
    "\n",
    "def sort_nicely( l ): \n",
    "    \"\"\" Sort the given list in the way that humans expect.\n",
    "    https://stackoverflow.com/questions/5967500/how-to-correctly-sort-a-string-with-a-number-inside?noredirect=1&lq=1\n",
    "    \"\"\" \n",
    "    convert = lambda text: int(text) if text.isdigit() else text \n",
    "    alphanum = lambda key: [ convert(c) for c in re.split('([0-9]+)', key) ] \n",
    "    l.sort( key=alphanum )\n",
    "\n",
    "\"\"\" Sort the given list in the way that humans expect.\n",
    "https://stackoverflow.com/questions/5967500/how-to-correctly-sort-a-string-with-a-number-inside?noredirect=1&lq=1\n",
    "\"\"\" \n",
    "convert = lambda text: int(text) if text.isdigit() else text \n",
    "alphanum = lambda key: [ convert(c) for c in re.split('([0-9]+)', key) ] \n",
    "\n",
    "\n",
    "def plot_save_img(diameter, color, ncol, title1, title2, title_change ,fpath):\n",
    "    \"\"\"plots rate ratio (returned by  def sum spikes window ) function as a change in diameter and color\n",
    "    (returned by def get_circle_props) and saves images to file path\n",
    "    \n",
    "    Parameters:\n",
    "    ----------\n",
    "    \n",
    "    diameter: nd array (channels x samples), controls diameter of circle, returned by  def sum spikes window \n",
    "    \n",
    "    color   : nd array (channels x samples), controls diameter of circle, returned by  def sum spikes window \n",
    "\n",
    "    gridspec: gridspecobject passed to subplots\n",
    "    \n",
    "    ncol    : (int) repeat the signal for n columns\n",
    "    \n",
    "    title1  : (string) title 1 of the figure\n",
    "    \n",
    "    title2  : (string) title 2 of the figure\n",
    "\n",
    "    title_change: (int) the image number when title 2 is displayed\n",
    "\n",
    "    fpath   : filepath (string), where images are saved    \n",
    "    \"\"\"\n",
    "    #test\n",
    "    #diameter, color = dia, col\n",
    "    \n",
    "    \n",
    "    #the number of channels/circles in the yaxis of the plot\n",
    "    nrow = dia.shape[0]\n",
    "    #repeat the rows in x direction of plot for ncol\n",
    "    #ncol = 2\n",
    "\n",
    "\n",
    "\n",
    "   #a grid layout to place subplots in a figure while adjusting for space and margins in between\n",
    "    gs = gridspec.GridSpec(nrow, ncol,\n",
    "        wspace=0.0, hspace=0.0, \n",
    "        top=1-0.5/(nrow+1), bottom=0.5/(nrow+1), \n",
    "        left=0.5/(ncol+1), right=1-0.5/(ncol+1)) \n",
    "        \n",
    " \n",
    "    #loop over axis=1 in diameter, i.e. the number of images to be created\n",
    "    for img in range (np.size(diameter, axis = 1)):\n",
    "        #initiate figure and size for every iteration\n",
    "        fig = plt.figure(figsize=(8*ncol+1, nrow+1))\n",
    "        \n",
    "        if title_change >= img:\n",
    "            fig.suptitle(title1, color=\"white\", fontsize=40)\n",
    "        if title_change <  img:\n",
    "            fig.suptitle(title2, color =\"white\", fontsize=40)\n",
    "\n",
    "        #the number of rows (i) in the plot, corresponding to channels in y-axis\n",
    "        for i in range(nrow):\n",
    "            for j in range(ncol):\n",
    "                ax= plt.subplot(gs[i,j])\n",
    "                #color has three indices, [0] = red, [1] = green, [2] = blue; for each channel (axis0) and image(axis1) one RGB tuple is selected, green is set to 0 \n",
    "                \n",
    "                red   = color[0][i][img]\n",
    "                green = color[1][0] #has only one value, i.e. 0\n",
    "                blue  = color[2][i][img]\n",
    "                color_ = red, green, blue\n",
    "                \n",
    "\n",
    "                circle= plt.Circle((0,0), diameter[i,img], color=color_)\n",
    "                ax.add_artist(circle)\n",
    "                ax.set_xlim(-1,1)\n",
    "                ax.set_ylim(-1,1)\n",
    "    \n",
    "                ax.xaxis.set_visible(False)\n",
    "                ax.yaxis.set_visible(False)\n",
    "                ax.set_facecolor('black')\n",
    "        plt.savefig(fpath + str (img) + \".png\", format=\"png\", bbox_inches=\"tight\", pad_inches = 0 )\n",
    "        plt.close()\n",
    "\n",
    "\n",
    "def NoteToMidi(KeyOctave):\n",
    "    # KeyOctave is formatted like 'C#3'\n",
    "    NOTES_FLAT = ['C', 'Db', 'D', 'Eb', 'E', 'F', 'Gb', 'G', 'Ab', 'A', 'Bb', 'B']\n",
    "    NOTES_SHARP = ['C', 'C#', 'D', 'D#', 'E', 'F', 'F#', 'G', 'G#', 'A', 'A#', 'B']\n",
    "\n",
    "    key = KeyOctave[:-1]  # eg C, Db\n",
    "    octave = KeyOctave[-1]   # eg 3, 4\n",
    "    answer = -1\n",
    "\n",
    "    try:\n",
    "        if 'b' in key:\n",
    "            pos = NOTES_FLAT.index(key)\n",
    "        else:\n",
    "            pos = NOTES_SHARP.index(key)\n",
    "    except:\n",
    "        print('The key is not valid', key)\n",
    "        return answer\n",
    "\n",
    "    answer += pos + 12 * (int(octave) + 1) + 1\n",
    "    return answer\n",
    "\n"
   ]
  },
  {
   "cell_type": "markdown",
   "id": "e4b9e82e-5115-45a0-b850-cda26e485ee7",
   "metadata": {},
   "source": [
    "## 1) Load data stored in numpy arrays "
   ]
  },
  {
   "cell_type": "code",
   "execution_count": 24,
   "id": "5b013922-8733-4a2a-bfa0-230a575e51f2",
   "metadata": {},
   "outputs": [
    {
     "name": "stdout",
     "output_type": "stream",
     "text": [
      "The shape of the arrays (channels, samples, trials): \n",
      "(25, 150001, 10)\n",
      "(25, 150001, 10)\n",
      "The samples correspond to a time vector ranging from: -3.0 to 3.0 seconds\n"
     ]
    }
   ],
   "source": [
    "#load data (wake mouse)\n",
    "arr = np.load('/Users/chrihoni/A10_rec1_wake_channels_samples_trials_140423_A10_MUA_analysis_for_creative_comp__.npy')\n",
    "#load data (anesthetized mouse)\n",
    "arr2 = np.load('/Users/chrihoni/A10_rec2_anesthetized_channels_samples_trials_140423_A10_MUA_analysis_for_creative_comp__.npy')\n",
    "\n",
    "#load raster plot time vector \n",
    "time1 = np.load(\"/Users/chrihoni/time_vector140423_A10_MUA_analysis_for_creative_comp__.npy\")\n",
    "\n",
    "#sampling rate of data (samples/second, Hz)\n",
    "srate1 = 25000\n",
    "\n",
    "print(\"The shape of the arrays (channels, samples, trials): \")\n",
    "print(arr.shape)\n",
    "print(arr2.shape)\n",
    "\n",
    "print(\"The samples correspond to a time vector ranging from: \" + str(time1[0]) + \" to \" +  str(time1[-1]) + \" seconds\")\n"
   ]
  },
  {
   "cell_type": "markdown",
   "id": "982d6d9f-6e96-4c82-8db1-92815ea305ad",
   "metadata": {},
   "source": [
    "## 2) Select data"
   ]
  },
  {
   "cell_type": "markdown",
   "id": "a70e2718-75a4-4c6f-b5a9-d1bc3f452d09",
   "metadata": {},
   "source": [
    "We do not use the whole time range and trials and select instead a subset of data to work with. "
   ]
  },
  {
   "cell_type": "code",
   "execution_count": 31,
   "id": "7a38e697-c4d6-4356-9060-6b76ecd82592",
   "metadata": {},
   "outputs": [
    {
     "name": "stdout",
     "output_type": "stream",
     "text": [
      "original shape (channels, samples, trials): (25, 25000, 2)\n",
      "new shape (channels, samples): (25, 50000)\n"
     ]
    }
   ],
   "source": [
    "#find indices of selected time range in time array \n",
    "ix1 = find_closest_value(time1, -0.3)\n",
    "ix2 = find_closest_value(time1, 0.7)\n",
    "\n",
    "#slice array axis 1 (channels x samples x trials) according to start stop indices\n",
    "arr_sl  =  arr  [:,ix1:ix2, 6:8]\n",
    "arr2_sl =  arr2 [:,ix1:ix2, 6:8]\n",
    "\n",
    "print(f\"original shape (channels, samples, trials): {arr_sl.shape}\")\n",
    "\n",
    "#reshape the array from (channels x samples x trials) to (channels x (samples x trials)), i.e. the trials should be flattened and be in the same dimension\n",
    "arr_rs = np.reshape (arr_sl,   (np.size(arr_sl, axis = 0),  np.size(arr_sl, axis =1)  *  np.size(arr_sl, axis =2)))\n",
    "arr2_rs = np.reshape (arr2_sl, (np.size(arr2_sl, axis = 0), np.size(arr2_sl, axis =1) *  np.size(arr2_sl, axis =2)))\n",
    "\n",
    "print(f\"new shape (channels, samples): {arr_rs.shape}\")\n"
   ]
  },
  {
   "cell_type": "markdown",
   "id": "adcc261d-0cba-4526-92b1-b4c07648efc8",
   "metadata": {},
   "source": [
    "## 3) Calculate spike rates and return color and size paramters"
   ]
  },
  {
   "cell_type": "markdown",
   "id": "9df90e90-acb8-4b54-b8b8-217cf2fac5bf",
   "metadata": {},
   "source": [
    "We calculate the spike ratio, i.e. the average rate over consecutive small time windows\n",
    "(number of spikes/length of time window) for awake and unconscious condition.\n",
    "\n",
    "The files are then concatenated (starting with the awake condition), \n",
    "and ratios are then mapped to values from 0 to 1. The ratios are then passed to a function which returns diameter and color arrays. These control the size and color of circles representing electrical activity of recording positions across the cortical depth.\n",
    "\n"
   ]
  },
  {
   "cell_type": "code",
   "execution_count": 33,
   "id": "9bd5bad1-eca3-4a09-bc50-1972fae3a512",
   "metadata": {},
   "outputs": [],
   "source": [
    "#get spike ratio array by summing spikes in a moving window\n",
    "ratio_wake = sum_spikes_window (arr_rs,  sampling_rate= srate1, bin_step_ms = 5, factor = 4)  \n",
    "ratio_anes = sum_spikes_window (arr2_rs, sampling_rate= srate1, bin_step_ms = 5, factor = 4)  \n",
    "\n",
    "#concatenate ratio wake and ratio anes \n",
    "ratio_w_a = np.concatenate((ratio_wake, ratio_anes), axis =1)\n",
    "\n",
    "#map spike ratio to values from 0 to 1\n",
    "ratio_map = map_value(ratio_w_a, np.min(ratio_w_a), np.max(ratio_w_a), 0, 1)\n",
    "\n",
    "\n",
    "#get diameter and color of each channel and image\n",
    "dia, col = get_circle_props(ratio_map)\n"
   ]
  },
  {
   "cell_type": "markdown",
   "id": "b4db12bf-67bb-4b7f-a026-c1870e117ab9",
   "metadata": {},
   "source": [
    "## 4) Plot and save images for all time windows"
   ]
  },
  {
   "cell_type": "code",
   "execution_count": 34,
   "id": "444bed59-2e38-4799-99aa-a65df3ecdea8",
   "metadata": {},
   "outputs": [
    {
     "name": "stdout",
     "output_type": "stream",
     "text": [
      "592.4476640224457\n"
     ]
    }
   ],
   "source": [
    "#parameters passed to plot function\n",
    "\n",
    "#path for saving images\n",
    "fig_savepath  = \"/Users/chrihoni/images_C2HO/rec1_2_trial6to7/img\"\n",
    "\n",
    "#the number of channels/circles in the yaxis of the plot\n",
    "nrow = dia.shape[0]\n",
    "#repeat the rows in x direction of plot for ncol, default =1\n",
    "ncol = 1\n",
    "\n",
    "#plot and save images\n",
    "start = time.time()\n",
    "plot_save_img(dia, col, 1, \"AWAKE\", \"UNCONSCIOUS\", np.size(ratio_wake, axis=1), fig_savepath)\n",
    "end = time.time()\n",
    "print(end - start)\n"
   ]
  },
  {
   "cell_type": "markdown",
   "id": "18107e98-3db6-404e-876a-f104fe41324d",
   "metadata": {},
   "source": [
    "## 5) Create video from images"
   ]
  },
  {
   "cell_type": "code",
   "execution_count": 35,
   "id": "4b80659d-005d-42c2-88b1-8e8e2dd36501",
   "metadata": {},
   "outputs": [],
   "source": [
    "#the number of frames/images per second\n",
    "fps = 20\n",
    "#the number of images\n",
    "img_nr = np.size(ratio_w_a, axis = 1)\n",
    "\n",
    "img_array = []\n",
    "for filename in sorted(glob.glob('/Users/chrihoni/images_C2HO/rec1_2_trial6to7/*.png'), key=alphanum):\n",
    "    img = cv2.imread(filename)\n",
    "    height, width, layers = img.shape\n",
    "    size = (width, height)\n",
    "    \n",
    "    img_array.append(img)\n",
    " \n",
    "\n",
    "out = cv2.VideoWriter('/Users/chrihoni/images_C2HO/rec1_2_trial6to7/rec1_2_.mp4',cv2.VideoWriter_fourcc(*'mp4v'), fps, size)\n",
    "#out1 = cv2.VideoWriter('rec1_2_.mp4',-1, fps, size)\n",
    "\n",
    "for i in range(len(img_array)):\n",
    "    out.write(img_array[i])\n",
    "out.release() \n"
   ]
  },
  {
   "cell_type": "markdown",
   "id": "9caa650a-52c3-4877-966e-6d1a65816789",
   "metadata": {},
   "source": [
    "## 6) Sonify data"
   ]
  },
  {
   "cell_type": "markdown",
   "id": "690202be-2ac3-4212-af52-b40431c0d459",
   "metadata": {},
   "source": [
    "To keep it simple we want to select some data and not sonify and play all 25 channels at the same time may!! Instead we select from all channels for a given timepoint the maximum rate. In this way we can extract sound from the most active site at a given time point while sampling from different positions over time. \n",
    "\n",
    "We plot these data first, to explore variations of our max rates over time."
   ]
  },
  {
   "cell_type": "code",
   "execution_count": 36,
   "id": "4d6511ef-aaa7-49d8-bdda-0cc730c81fe4",
   "metadata": {},
   "outputs": [
    {
     "data": {
      "image/png": "[encoded data removed]",
      "text/plain": [
       "<Figure size 640x480 with 1 Axes>"
      ]
     },
     "metadata": {},
     "output_type": "display_data"
    }
   ],
   "source": [
    "# plot data\n",
    "\n",
    "#the number of frames/images per second\n",
    "fps = 20\n",
    "#the number of images\n",
    "img_nr = np.size(ratio_w_a, axis = 1)\n",
    "\n",
    "#x axis (time): the duration of the video file; the number of images/frames per second\n",
    "dur = img_nr/fps\n",
    "time = np.linspace(0, dur, img_nr)\n",
    "ratio_max = np.max(ratio_map, axis =0)\n",
    "\n",
    "plt.scatter(time, np.max(ratio_map, axis =0), s = 30*np.max(ratio_map, axis =0))\n",
    "plt.xlabel(\"Time (seconds)\")\n",
    "plt.ylabel(\"Spike rate (norm.)\")\n",
    "plt.show()\n"
   ]
  },
  {
   "cell_type": "markdown",
   "id": "8f567f33-ec15-4ee9-b27d-f1de03591cee",
   "metadata": {},
   "source": [
    "## 7) Choose musical notes for pitch mapping, convert to midi numbers"
   ]
  },
  {
   "cell_type": "markdown",
   "id": "e0a1242c-6b74-46dc-87fb-44f0436b1761",
   "metadata": {},
   "source": [
    "To convert notes to midi notes we refer to the excellent tutorial of Matt Russo - \"How to turn data into music\"\n",
    "https://astromattrusso.gumroad.com/l/data2music-part1\n",
    "https://github.com/SYSTEMSounds/sonification-tutorials/blob/main/data2midi-part1.ipynb"
   ]
  },
  {
   "cell_type": "code",
   "execution_count": 42,
   "id": "ae9824de-1bf5-44d5-b235-d6a9ecbad453",
   "metadata": {},
   "outputs": [
    {
     "name": "stdout",
     "output_type": "stream",
     "text": [
      "The notes in note_names correspond to the following MIDI notes: [24, 36, 43, 48, 52, 55, 57, 59, 62, 64, 67, 69, 71, 74, 76, 79, 81, 83, 86, 88, 90, 91, 93]\n",
      "Resolution: 23 notes\n"
     ]
    },
    {
     "data": {
      "image/png": "[encoded data removed]",
      "text/plain": [
       "<Figure size 640x480 with 1 Axes>"
      ]
     },
     "metadata": {},
     "output_type": "display_data"
    }
   ],
   "source": [
    "#custom note set (a voicing of a Cmaj13#11 chord, notes from C lydian)\n",
    "note_names3 = ['C1','C2','G2',\n",
    "             'C3','E3','G3','A3','B3',\n",
    "             'D4','E4','G4','A4','B4',\n",
    "             'D5','E5','G5','A5','B5',\n",
    "             'D6','E6','F#6','G6','A6']\n",
    "\n",
    "\n",
    "note_midis = [NoteToMidi(n) for n in note_names3] #make a list of midi note numbers \n",
    "print(f\"The notes in note_names correspond to the following MIDI notes: {note_midis}\")\n",
    "\n",
    "\n",
    "n_notes = len(note_midis)\n",
    "print('Resolution:',n_notes, 'notes')\n",
    "\n",
    "#Map data to MIDI note numbers (map higher spike rates to lower notes)\n",
    "n_val = len(time)\n",
    "midi_data = []\n",
    "for i in range(n_val):\n",
    "    note_index = round(map_value(ratio_max[i], 0, 1, n_notes-1, 0)) #notice choice of polarity: higher rates are mapped to lower notes\n",
    "                                                        #we round the result because it's a list index which must be an integer\n",
    "    midi_data.append(note_midis[note_index])\n",
    "\n",
    "plt.scatter(time, midi_data, s=midi_data)\n",
    "plt.xlabel('time [beats]')\n",
    "plt.ylabel('midi note numbers')\n",
    "plt.show()"
   ]
  },
  {
   "cell_type": "markdown",
   "id": "732c00d1-89b2-476a-ab6e-a643abbbef97",
   "metadata": {},
   "source": [
    "## 8) Map data to note velocities (map higher spike rates to greater velocities)"
   ]
  },
  {
   "cell_type": "code",
   "execution_count": 45,
   "id": "2764cc19-6e9d-4742-948e-24efd2cf699c",
   "metadata": {},
   "outputs": [
    {
     "data": {
      "image/png": "[encoded data removed]",
      "text/plain": [
       "<Figure size 640x480 with 1 Axes>"
      ]
     },
     "metadata": {},
     "output_type": "display_data"
    }
   ],
   "source": [
    "#midi velocity (integer from 0-127) is a combination of volume and intensity (hitting a piano key with a larger velocity makes a louder, more intense sound)\n",
    "#the same data are used to control the note pitch and the note velocity \n",
    "\n",
    "n_val = len(time)\n",
    "vel_min,vel_max = 35,127   #minimum and maximum note velocity\n",
    "\n",
    "vel_data = []\n",
    "for i in range(n_val):\n",
    "    note_velocity = round(map_value(ratio_max[i], 0, 1, vel_min, vel_max)) #bigger craters will be louder\n",
    "                                                                #we round here because note velocites are integers\n",
    "    vel_data.append(note_velocity)\n",
    "    \n",
    "plt.scatter(time, midi_data, s=vel_data)\n",
    "plt.xlabel('time [beats]')\n",
    "plt.ylabel('midi note numbers')\n",
    "plt.show()"
   ]
  },
  {
   "cell_type": "markdown",
   "id": "418e20b0-8b2f-4d6f-b823-12fb15711f64",
   "metadata": {},
   "source": [
    "## 9) Save data as midi file"
   ]
  },
  {
   "cell_type": "code",
   "execution_count": 46,
   "id": "6af195e6-0c7d-41d6-bcb5-8e296fa1227f",
   "metadata": {},
   "outputs": [],
   "source": [
    "from midiutil import MIDIFile #import library to make midi file, https://midiutil.readthedocs.io/en/1.2.1/\n",
    "#the midi file measures time in beats (quarter notes), for 1 beat/second set beats per minute to 60\n",
    "bpm = 60\n",
    "#create midi file object, add tempo\n",
    "my_midi_file = MIDIFile(1) #one track \n",
    "my_midi_file.addTempo(track=0, time=0, tempo=bpm) \n",
    "\n",
    "#add midi notes\n",
    "for i in range(n_val):\n",
    "    my_midi_file.addNote(track=0, channel=0, pitch=midi_data[i], time=time[i], duration=2, volume=vel_data[i])\n",
    "filename = \"/Users/chrihoni/rec1_2\"\n",
    "#create and save the midi file itself\n",
    "with open(filename + '.mid', \"wb\") as f:\n",
    "    my_midi_file.writeFile(f) "
   ]
  },
  {
   "cell_type": "code",
   "execution_count": 47,
   "id": "80a03983-667d-42a0-8bdf-c63876d85006",
   "metadata": {},
   "outputs": [],
   "source": [
    "#listen to the midi file\n",
    "#import pygame\n",
    "#filename = \"/Users/chrihoni/rec1_2\"\n",
    "\n",
    "#pygame.init()\n",
    "#pygame.mixer.music.load(filename + '.mid')\n",
    "#pygame.mixer.music.play()\n"
   ]
  },
  {
   "cell_type": "markdown",
   "id": "89c903a8-f000-4e6f-a1a7-7f1b2a44d8b6",
   "metadata": {},
   "source": [
    "## 10) Convert midi file to .wav and concatenate audio and video files (sonified and visualized rates)"
   ]
  },
  {
   "cell_type": "code",
   "execution_count": 52,
   "id": "df0ca701-d52c-42d5-92d7-9ca2e6a50b7f",
   "metadata": {},
   "outputs": [
    {
     "name": "stderr",
     "output_type": "stream",
     "text": [
      "fluidsynth: panic: An error occurred while reading from stdin.\n",
      "fluidsynth: warning: No preset found on channel 9 [bank=128 prog=0]\n",
      "fluidsynth: panic: An error occurred while reading from stdin.\n"
     ]
    },
    {
     "name": "stdout",
     "output_type": "stream",
     "text": [
      "FluidSynth runtime version 2.3.2\n",
      "Copyright (C) 2000-2023 Peter Hanappe and others.\n",
      "Distributed under the LGPL license.\n",
      "SoundFont(R) is a registered trademark of Creative Technology Ltd.\n",
      "\n",
      "Rendering audio to file '/Users/chrihoni/rec1_2_audio_font7.wav'..\n",
      "Moviepy - Building video /Users/chrihoni/rec1_2_audio_video_050523.mp4.\n",
      "MoviePy - Writing audio in rec1_2_audio_video_050523TEMP_MPY_wvf_snd.mp3\n"
     ]
    },
    {
     "name": "stderr",
     "output_type": "stream",
     "text": [
      "                                                                                \r"
     ]
    },
    {
     "name": "stdout",
     "output_type": "stream",
     "text": [
      "MoviePy - Done.\n",
      "Moviepy - Writing video /Users/chrihoni/rec1_2_audio_video_050523.mp4\n",
      "\n"
     ]
    },
    {
     "name": "stderr",
     "output_type": "stream",
     "text": [
      "                                                                                \r"
     ]
    },
    {
     "name": "stdout",
     "output_type": "stream",
     "text": [
      "Moviepy - Done !\n",
      "Moviepy - video ready /Users/chrihoni/rec1_2_audio_video_050523.mp4\n"
     ]
    }
   ],
   "source": [
    "from moviepy.editor import VideoFileClip, AudioFileClip, concatenate_videoclips\n",
    "from pydub import AudioSegment\n",
    "import os\n",
    "\n",
    "from midi2audio import FluidSynth\n",
    "\n",
    "#font paths downloaded from https://www.zanderjaz.com/downloads/soundfonts/\n",
    "font_path = \"/Users/chrihoni/Downloads/198_Yamaha_SY1_piano.sf2\"\n",
    "font_path2 = \"/Users/chrihoni/default_sound_font.sf2\"\n",
    "font_path3 = \"/Users/chrihoni/Downloads/RolandNicePiano.sf2\"\n",
    "font_path4 = \"/Users/chrihoni/Downloads/Piano.SF2\"\n",
    "font_path5 = \"/Users/chrihoni/Downloads/1115_Korg_IS50_Marimboyd.sf2\"\n",
    "font_path6 = \"/Users/chrihoni/Downloads/YAMAHA DX7Piano.SF2\"\n",
    "font_path7 = \"/Users/chrihoni/Downloads/Stein Grand Piano.SF2\"\n",
    "\n",
    "\n",
    "#synthetize audio object using font path \n",
    "fs = FluidSynth(sound_font=font_path7, sample_rate=22050)\n",
    "\n",
    "#convert midi file to .wav\n",
    "#the path of the midi file\n",
    "midi_path = \"/Users/chrihoni/rec1_2.mid\"\n",
    "#the path of the output .wav file\n",
    "wav_path =  \"/Users/chrihoni/rec1_2_audio_font7.wav\"\n",
    "fs.midi_to_audio(midi_path, wav_path)\n",
    "\n",
    "#the path of the file\n",
    "#wav_path = \"/Users/chrihoni/rec1_2_audio_font7.wav\"\n",
    "#play the midi file\n",
    "#fs.play_midi(midi_path)\n",
    "#the path of the output .mp3 file\n",
    "#mp3_path =  \"/Users/chrihoni/rec1_2_audio.mp3\"\n",
    "#fs.midi_to_audio(midi_path, wav_path)\n",
    "\n",
    "#read midi file, convert and save\n",
    "#audio = AudioSegment.from_file(wav_path, format=\"wav\")\n",
    "#audio.export (mp3_path, format =\"mp3\")\n",
    "\n",
    "\n",
    "#convert video, .avi to .mp4\n",
    "#video= VideoFileClip(\"/Users/chrihoni/images_C2HO/rec1_2_trial6to7/rec1_2.avi\")\n",
    "#video.write_videofile(\"/Users/chrihoni/images_C2HO/rec1_2_trial6to7/rec1_2.mp4\")\n",
    "\n",
    "\n",
    "#open video and audio\n",
    "video_clip = VideoFileClip(\"/Users/chrihoni/images_C2HO/rec1_2_trial6to7/rec1_2_.mp4\")\n",
    "audio_clip = AudioFileClip(\"/Users/chrihoni/rec1_2_audio_font7.wav\")\n",
    "\n",
    "#concatenate video with audio clip\n",
    "audio_video_clip = video_clip.set_audio(audio_clip)\n",
    "\n",
    "#the path for saving\n",
    "path = \"/Users/chrihoni/rec1_2_audio_video_050523.mp4\"\n",
    "\n",
    "#export the  audio video file\n",
    "audio_video_clip.write_videofile(path, audio_codec=\"aac\")\n",
    "\n"
   ]
  },
  {
   "cell_type": "code",
   "execution_count": null,
   "id": "c1b6d35a-abfb-4eb4-a7ad-2331ddf9ee16",
   "metadata": {},
   "outputs": [],
   "source": []
  }
 ],
 "metadata": {
  "kernelspec": {
   "display_name": "Python 3 (ipykernel)",
   "language": "python",
   "name": "python3"
  },
  "language_info": {
   "codemirror_mode": {
    "name": "ipython",
    "version": 3
   },
   "file_extension": ".py",
   "mimetype": "text/x-python",
   "name": "python",
   "nbconvert_exporter": "python",
   "pygments_lexer": "ipython3",
   "version": "3.10.9"
  },
  "toc-autonumbering": false,
  "toc-showcode": false,
  "toc-showmarkdowntxt": true
 },
 "nbformat": 4,
 "nbformat_minor": 5
}
